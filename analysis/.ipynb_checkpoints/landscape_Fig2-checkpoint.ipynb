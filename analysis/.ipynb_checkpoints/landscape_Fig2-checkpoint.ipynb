{
 "cells": [
  {
   "cell_type": "markdown",
   "metadata": {},
   "source": [
    "# Average rates of antibody class switching over D0, D28"
   ]
  },
  {
   "cell_type": "markdown",
   "metadata": {},
   "source": [
    "## Setup"
   ]
  },
  {
   "cell_type": "code",
   "execution_count": 1,
   "metadata": {
    "collapsed": true
   },
   "outputs": [],
   "source": [
    "VDJ_similarity_cutoff = 0.0\n",
    "\n",
    "output_dir = \"\"\n",
    "output_suffix = \"\"\n",
    "output_format = \".png\"\n",
    "output_format2 = \".pdf\"\n",
    "\n",
    "output_formats = [output_format, output_format2]"
   ]
  },
  {
   "cell_type": "code",
   "execution_count": 2,
   "metadata": {
    "collapsed": false
   },
   "outputs": [],
   "source": [
    "import time\n",
    "import itertools\n",
    "import copy\n",
    "import math\n",
    "import MySQLdb\n",
    "\n",
    "import numpy as np\n",
    "import pandas as pd\n",
    "from scipy import stats\n",
    "from scipy.stats.stats import pearsonr\n",
    "from scipy.stats.stats import spearmanr\n",
    "\n",
    "%matplotlib inline\n",
    "from matplotlib import pyplot as plt\n",
    "import matplotlib\n",
    "\n",
    "import seaborn as sns"
   ]
  },
  {
   "cell_type": "code",
   "execution_count": 3,
   "metadata": {
    "collapsed": false
   },
   "outputs": [],
   "source": [
    "# isotype_names = ['IgM', 'IgD', 'IgG3', 'IgG1', 'IgA1', 'IgG2', 'IgG4', 'IgE', 'IgA2']\n",
    "isotype_names = ['Naive', 'IgG3', 'IgG1', 'IgA1', 'IgG2', 'IgG4', 'IgE', 'IgA2']\n",
    "isotype_to_uid = dict(zip(isotype_names,range(len(isotype_names))))"
   ]
  },
  {
   "cell_type": "markdown",
   "metadata": {},
   "source": [
    "### Display options"
   ]
  },
  {
   "cell_type": "code",
   "execution_count": 4,
   "metadata": {
    "collapsed": false
   },
   "outputs": [],
   "source": [
    "# String formatting\n",
    "np.set_printoptions(suppress=True, precision=2) # print output"
   ]
  },
  {
   "cell_type": "markdown",
   "metadata": {},
   "source": [
    "### Function to save figures"
   ]
  },
  {
   "cell_type": "code",
   "execution_count": 5,
   "metadata": {
    "collapsed": false
   },
   "outputs": [],
   "source": [
    "def save_figure(fig, name, output_dir, output_suffix, output_formats, savefig_args):\n",
    "    for output_format in output_formats:\n",
    "        fig.savefig(output_dir + \"/\" + name + output_suffix + output_format, **savefig_args)\n",
    "    return None"
   ]
  },
  {
   "cell_type": "markdown",
   "metadata": {},
   "source": [
    "## Load data"
   ]
  },
  {
   "cell_type": "code",
   "execution_count": 6,
   "metadata": {
    "collapsed": false
   },
   "outputs": [],
   "source": [
    "def load_data(visit):\n",
    "\n",
    "    db = MySQLdb.connect(host=\"localhost\", # your host, usually localhost\n",
    "                         user=\"myUsername\", # your username\n",
    "                         passwd=\"myPassword\", # your password\n",
    "                         db=\"Bcell_flu_twins_\" + visit) # name of the data base\n",
    "    \n",
    "    query = \"\"\"\n",
    "        SELECT s.patient_uid, s.patient_str as name,\n",
    "               p.twin_sibling as twin_name, p.self_zygosity as twin_type,\n",
    "               s.subisotype, s.mst_ancestor_isotype, s.mst_dist_to_ancestor,\n",
    "               s.V_length, s.D_length, s.J_length\n",
    "        FROM sequences s, patients p, clusterings c\n",
    "        WHERE s.patient_uid = p.uid AND s.mst_ancestor_isotype IS NOT NULL\n",
    "        AND s.clustering_uid = c.uid\n",
    "        AND c.clustering_CDR3_similarity_cutoff < 0.96\n",
    "        AND c.clustering_CDR3_similarity_cutoff > 0.94\n",
    "        \"\"\"\n",
    "\n",
    "    print \"Loading data...\"\n",
    "    start_time = time.time()\n",
    "\n",
    "    df = pd.io.sql.read_sql(query, db)\n",
    "\n",
    "    if df.shape[0] == 0:\n",
    "        print \"Error: no rows loaded\"\n",
    "\n",
    "    elapsed_time = time.time() - start_time\n",
    "    print \"Wall clock time\", elapsed_time\n",
    "    print\n",
    "    \n",
    "    return df"
   ]
  },
  {
   "cell_type": "markdown",
   "metadata": {},
   "source": [
    "## Get data into the right shape: collapse naive isotypes into a single label, filter by distance"
   ]
  },
  {
   "cell_type": "markdown",
   "metadata": {},
   "source": [
    "### Collapse naive isotypes (IgM and IgD) to a single label"
   ]
  },
  {
   "cell_type": "code",
   "execution_count": 7,
   "metadata": {
    "collapsed": false
   },
   "outputs": [],
   "source": [
    "def collapse_naive(df):\n",
    "\n",
    "    print \"Collapsing naive isotypes to a single label...\"\n",
    "    start_time = time.time()\n",
    "\n",
    "    df_naive = df.copy()\n",
    "\n",
    "    naive_isotypes = [\"IgM\", \"IgD\"]\n",
    "    naive_label = \"Naive\"\n",
    "    df_naive.subisotype[df.subisotype.isin(naive_isotypes)] = naive_label\n",
    "    df_naive.mst_ancestor_isotype[df.mst_ancestor_isotype.isin(naive_isotypes)] = naive_label\n",
    "\n",
    "    elapsed_time = time.time() - start_time\n",
    "    print \"Wall clock time\", elapsed_time\n",
    "    print\n",
    "    \n",
    "    return df_naive"
   ]
  },
  {
   "cell_type": "markdown",
   "metadata": {},
   "source": [
    "### Filter by similarity to ancestor"
   ]
  },
  {
   "cell_type": "code",
   "execution_count": 8,
   "metadata": {
    "collapsed": false
   },
   "outputs": [],
   "source": [
    "def filter_by_similarity_to_ancestor(df, VDJ_similarity_cutoff):\n",
    "\n",
    "    print \"Filtering by similarity to ancestor...\"\n",
    "    start_time = time.time()\n",
    "\n",
    "    df[\"VDJ_similarity\"] = 1 - (df[\"mst_dist_to_ancestor\"] / (df[\"V_length\"] + df[\"D_length\"] + df[\"J_length\"]))\n",
    "\n",
    "    df_filtered = df[df.VDJ_similarity >= VDJ_similarity_cutoff]\n",
    "\n",
    "    elapsed_time = time.time() - start_time\n",
    "    print \"Wall clock time\", elapsed_time\n",
    "    print\n",
    "\n",
    "    return df_filtered"
   ]
  },
  {
   "cell_type": "markdown",
   "metadata": {},
   "source": [
    "### Do loading and filtering"
   ]
  },
  {
   "cell_type": "code",
   "execution_count": 9,
   "metadata": {
    "collapsed": false
   },
   "outputs": [],
   "source": [
    "def load_and_filter(visit, VDJ_similarity_cutoff, load_func=load_data):\n",
    "    df = load_func(visit)\n",
    "    df_naive = collapse_naive(df)\n",
    "    df_naive_filtered = filter_by_similarity_to_ancestor(df_naive, VDJ_similarity_cutoff)\n",
    "    print \"Shape:\", df_naive_filtered.shape\n",
    "    return df_naive_filtered"
   ]
  },
  {
   "cell_type": "code",
   "execution_count": 10,
   "metadata": {
    "collapsed": false
   },
   "outputs": [
    {
     "name": "stdout",
     "output_type": "stream",
     "text": [
      "Loading data...\n",
      "Wall clock time"
     ]
    },
    {
     "name": "stderr",
     "output_type": "stream",
     "text": [
      "/local10G/rfhorns/resources/anaconda/lib/python2.7/site-packages/IPython/kernel/__main__.py:10: SettingWithCopyWarning: \n",
      "A value is trying to be set on a copy of a slice from a DataFrame\n",
      "\n",
      "See the the caveats in the documentation: http://pandas.pydata.org/pandas-docs/stable/indexing.html#indexing-view-versus-copy\n",
      "/local10G/rfhorns/resources/anaconda/lib/python2.7/site-packages/IPython/kernel/__main__.py:11: SettingWithCopyWarning: \n",
      "A value is trying to be set on a copy of a slice from a DataFrame\n",
      "\n",
      "See the the caveats in the documentation: http://pandas.pydata.org/pandas-docs/stable/indexing.html#indexing-view-versus-copy\n"
     ]
    },
    {
     "name": "stdout",
     "output_type": "stream",
     "text": [
      " 382.831813097\n",
      "\n",
      "Collapsing naive isotypes to a single label...\n",
      "Wall clock time 0.5363240242\n",
      "\n",
      "Filtering by similarity to ancestor...\n",
      "Wall clock time 0.250014066696\n",
      "\n",
      "Shape: (1072764, 11)\n"
     ]
    }
   ],
   "source": [
    "df_V1 = load_and_filter(\"V1_v3\", VDJ_similarity_cutoff)"
   ]
  },
  {
   "cell_type": "code",
   "execution_count": 11,
   "metadata": {
    "collapsed": false
   },
   "outputs": [
    {
     "name": "stdout",
     "output_type": "stream",
     "text": [
      "Loading data...\n",
      "Wall clock time"
     ]
    },
    {
     "name": "stderr",
     "output_type": "stream",
     "text": [
      "/local10G/rfhorns/resources/anaconda/lib/python2.7/site-packages/IPython/kernel/__main__.py:10: SettingWithCopyWarning: \n",
      "A value is trying to be set on a copy of a slice from a DataFrame\n",
      "\n",
      "See the the caveats in the documentation: http://pandas.pydata.org/pandas-docs/stable/indexing.html#indexing-view-versus-copy\n",
      "/local10G/rfhorns/resources/anaconda/lib/python2.7/site-packages/IPython/kernel/__main__.py:11: SettingWithCopyWarning: \n",
      "A value is trying to be set on a copy of a slice from a DataFrame\n",
      "\n",
      "See the the caveats in the documentation: http://pandas.pydata.org/pandas-docs/stable/indexing.html#indexing-view-versus-copy\n"
     ]
    },
    {
     "name": "stdout",
     "output_type": "stream",
     "text": [
      " 111.550511122\n",
      "\n",
      "Collapsing naive isotypes to a single label...\n",
      "Wall clock time 0.820569038391\n",
      "\n",
      "Filtering by similarity to ancestor...\n",
      "Wall clock time 0.341878890991\n",
      "\n",
      "Shape: (1305538, 11)\n"
     ]
    }
   ],
   "source": [
    "df_V2 = load_and_filter(\"V2_v3\", VDJ_similarity_cutoff)"
   ]
  },
  {
   "cell_type": "code",
   "execution_count": 12,
   "metadata": {
    "collapsed": false
   },
   "outputs": [
    {
     "name": "stdout",
     "output_type": "stream",
     "text": [
      "Loading data...\n",
      "Wall clock time"
     ]
    },
    {
     "name": "stderr",
     "output_type": "stream",
     "text": [
      "/local10G/rfhorns/resources/anaconda/lib/python2.7/site-packages/IPython/kernel/__main__.py:10: SettingWithCopyWarning: \n",
      "A value is trying to be set on a copy of a slice from a DataFrame\n",
      "\n",
      "See the the caveats in the documentation: http://pandas.pydata.org/pandas-docs/stable/indexing.html#indexing-view-versus-copy\n",
      "/local10G/rfhorns/resources/anaconda/lib/python2.7/site-packages/IPython/kernel/__main__.py:11: SettingWithCopyWarning: \n",
      "A value is trying to be set on a copy of a slice from a DataFrame\n",
      "\n",
      "See the the caveats in the documentation: http://pandas.pydata.org/pandas-docs/stable/indexing.html#indexing-view-versus-copy\n"
     ]
    },
    {
     "name": "stdout",
     "output_type": "stream",
     "text": [
      " 113.576562881\n",
      "\n",
      "Collapsing naive isotypes to a single label...\n",
      "Wall clock time 0.4818379879\n",
      "\n",
      "Filtering by similarity to ancestor...\n",
      "Wall clock time 0.206124782562\n",
      "\n",
      "Shape: (926044, 11)\n"
     ]
    }
   ],
   "source": [
    "df_V3 = load_and_filter(\"V3_v3\", VDJ_similarity_cutoff)"
   ]
  },
  {
   "cell_type": "code",
   "execution_count": 13,
   "metadata": {
    "collapsed": false
   },
   "outputs": [
    {
     "data": {
      "text/plain": [
       "3304346"
      ]
     },
     "execution_count": 13,
     "metadata": {},
     "output_type": "execute_result"
    }
   ],
   "source": [
    "df_V1.shape[0] + df_V2.shape[0] + df_V3.shape[0]"
   ]
  },
  {
   "cell_type": "code",
   "execution_count": 14,
   "metadata": {
    "collapsed": false
   },
   "outputs": [],
   "source": [
    "df_Vall = pd.concat([df_V1, df_V2, df_V3])"
   ]
  },
  {
   "cell_type": "code",
   "execution_count": 15,
   "metadata": {
    "collapsed": true
   },
   "outputs": [],
   "source": [
    "df_V1V3 = pd.concat([df_V1, df_V3])"
   ]
  },
  {
   "cell_type": "markdown",
   "metadata": {},
   "source": [
    "## Calculate rates of class switching"
   ]
  },
  {
   "cell_type": "markdown",
   "metadata": {},
   "source": [
    "### Functions for calculating rates"
   ]
  },
  {
   "cell_type": "code",
   "execution_count": 16,
   "metadata": {
    "collapsed": false
   },
   "outputs": [],
   "source": [
    "def count_isotype_pairs(x, y):\n",
    "    \n",
    "    c = np.zeros((len(isotype_names), len(isotype_names)))\n",
    "    \n",
    "    for x_i, y_i in zip(x, y):\n",
    "        c[isotype_to_uid[x_i]][isotype_to_uid[y_i]] += 1\n",
    "    \n",
    "    return c"
   ]
  },
  {
   "cell_type": "code",
   "execution_count": 17,
   "metadata": {
    "collapsed": false
   },
   "outputs": [],
   "source": [
    "def zero_diagonal(m):\n",
    "    n = np.copy(m)\n",
    "    np.fill_diagonal(n, 0)\n",
    "    return n"
   ]
  },
  {
   "cell_type": "code",
   "execution_count": 18,
   "metadata": {
    "collapsed": false
   },
   "outputs": [],
   "source": [
    "def normalize_to_max(m):\n",
    "    n = np.copy(m)\n",
    "    n = n / np.max(m)\n",
    "    return n"
   ]
  },
  {
   "cell_type": "code",
   "execution_count": 19,
   "metadata": {
    "collapsed": false
   },
   "outputs": [],
   "source": [
    "def sum_counts(L):\n",
    "    \n",
    "    c = np.zeros((len(isotype_names), len(isotype_names)))\n",
    "    \n",
    "    for counts in L:\n",
    "        c += counts\n",
    "\n",
    "    return c"
   ]
  },
  {
   "cell_type": "code",
   "execution_count": 20,
   "metadata": {
    "collapsed": false
   },
   "outputs": [],
   "source": [
    "def calc_rates(df):\n",
    "    \n",
    "    R = {}\n",
    "    \n",
    "    # Count switches\n",
    "    my_switch_counts = count_isotype_pairs(list(df['mst_ancestor_isotype']), list(df['subisotype']))\n",
    "    my_switch_counts_nonself = zero_diagonal(my_switch_counts)\n",
    "    \n",
    "    # Rates\n",
    "    my_switch_rates = normalize_to_max(my_switch_counts)\n",
    "    my_switch_rates_nonself = normalize_to_max(my_switch_counts_nonself)\n",
    "    \n",
    "    # Destination\n",
    "    my_destination_rates = np.apply_along_axis(np.divide, 0, my_switch_counts,\n",
    "                                               np.sum(my_switch_counts, axis=1))\n",
    "    \n",
    "    my_destination_rates_nonself = np.apply_along_axis(np.divide, 0, my_switch_counts_nonself,\n",
    "                                                       np.sum(my_switch_counts_nonself, axis=1))\n",
    "    my_destination_rates_nonself[np.isnan(my_destination_rates_nonself)] = 0\n",
    "    \n",
    "    # Arrival\n",
    "    my_arrival_rates = my_switch_counts / np.sum(my_switch_counts, axis=0)\n",
    "    my_arrival_rates[np.isnan(my_arrival_rates)] = 0\n",
    "    \n",
    "    my_arrival_rates_nonself = my_switch_counts_nonself / np.sum(my_switch_counts_nonself, axis=0)\n",
    "    my_arrival_rates_nonself[np.isnan(my_arrival_rates_nonself)] = 0\n",
    "    \n",
    "    R[\"switch_counts\"] = my_switch_counts\n",
    "    R[\"switch_rates\"] = my_switch_rates\n",
    "    R[\"destination_rates\"] = my_destination_rates\n",
    "    R[\"arrival_rates\"] = my_arrival_rates\n",
    "    R[\"switch_counts_nonself\"] = my_switch_counts_nonself\n",
    "    R[\"switch_rates_nonself\"] = my_switch_rates_nonself\n",
    "    R[\"destination_rates_nonself\"] = my_destination_rates_nonself\n",
    "    R[\"arrival_rates_nonself\"] = my_arrival_rates_nonself\n",
    "    \n",
    "    return R"
   ]
  },
  {
   "cell_type": "code",
   "execution_count": 22,
   "metadata": {
    "collapsed": false
   },
   "outputs": [],
   "source": [
    "rates_V1 = calc_rates(df_V1)\n",
    "rates_V2 = calc_rates(df_V2)\n",
    "rates_V3 = calc_rates(df_V3)\n",
    "rates_Vall = calc_rates(df_Vall)\n",
    "rates_V1V3 = calc_rates(df_V1V3)"
   ]
  },
  {
   "cell_type": "markdown",
   "metadata": {},
   "source": [
    "## Plot heatmaps"
   ]
  },
  {
   "cell_type": "markdown",
   "metadata": {},
   "source": [
    "### Display options"
   ]
  },
  {
   "cell_type": "code",
   "execution_count": 21,
   "metadata": {
    "collapsed": false
   },
   "outputs": [],
   "source": [
    "# Set seaborn style\n",
    "sns.set_style(\"white\")\n",
    "\n",
    "colormap = plt.cm.RdYlBu_r\n",
    "# colormap = plt.cm.binary\n",
    "# colormap = plt.cm.RdBu_r\n",
    "# colormap = plt.cm.jet\n",
    "colormap.set_bad(color='white')\n",
    "\n",
    "from matplotlib.colors import LogNorm\n",
    "norm = LogNorm()\n",
    "\n",
    "text_color = (0.0, 0.0, 0.0) # black\n",
    "# text_color = (1.0, 1.0, 1.0) # white"
   ]
  },
  {
   "cell_type": "markdown",
   "metadata": {},
   "source": [
    "### Functions for plotting"
   ]
  },
  {
   "cell_type": "code",
   "execution_count": 26,
   "metadata": {
    "collapsed": false
   },
   "outputs": [],
   "source": [
    "def plot_pretty_heatmap(ax, data, mask, labels, values_fmt=\"{:2.0f}\", multiply_by_100=True, norm=None):\n",
    "    \n",
    "    data_masked = np.copy(data)\n",
    "    data_masked = data_masked.transpose() # transpose rows and columns for aesthetics\n",
    "    if mask is not None: data_masked[mask] = np.nan\n",
    "    masked_array = np.ma.array(data_masked, mask=np.isnan(data_masked))\n",
    "    \n",
    "    im = ax.imshow(masked_array, cmap=colormap, norm=norm, interpolation='none', origin='lower')\n",
    "    # heatmap = ax.pcolor(masked_array, cmap=colormap, norm=norm)\n",
    "\n",
    "    ax.set_xticks(np.arange(data.shape[0]), minor=False)\n",
    "    ax.set_yticks(np.arange(data.shape[1]), minor=False)\n",
    "\n",
    "    ax.set_xticklabels([], minor=False)\n",
    "    ax.set_yticklabels([], minor=False)\n",
    "\n",
    "    ax.invert_yaxis()\n",
    "    ax.xaxis.tick_top()\n",
    "    ax.xaxis.set_label_position('top') \n",
    "    \n",
    "    ax.tick_params(axis='y', which='major', right='off')\n",
    "\n",
    "    # show_values(heatmap, fmt=values_fmt, multiply_by_100=multiply_by_100)\n",
    "    \n",
    "    return ax, im"
   ]
  },
  {
   "cell_type": "code",
   "execution_count": 27,
   "metadata": {
    "collapsed": false
   },
   "outputs": [],
   "source": [
    "def show_values(pc, fmt=\"{:2.0f}\", multiply_by_100=True, **kw):\n",
    "    from itertools import izip\n",
    "    pc.update_scalarmappable()\n",
    "    ax = pc.get_axes()\n",
    "    for p, color, value in izip(pc.get_paths(), pc.get_facecolors(), pc.get_array()):\n",
    "        x, y = p.vertices[:-2, :].mean(0)\n",
    "        color = text_color\n",
    "        if value != 0:\n",
    "            if multiply_by_100:\n",
    "                ax.text(x, y, fmt.format(value*100), ha=\"center\", va=\"center\", color=color, **kw)\n",
    "            else:\n",
    "                ax.text(x, y, fmt.format(value), ha=\"center\", va=\"center\", color=color, **kw)"
   ]
  },
  {
   "cell_type": "markdown",
   "metadata": {},
   "source": [
    "### Masks to hide empty values"
   ]
  },
  {
   "cell_type": "code",
   "execution_count": 28,
   "metadata": {
    "collapsed": false
   },
   "outputs": [],
   "source": [
    "# Values to mask\n",
    "mask_uppertri = np.triu_indices(len(isotype_names), k=1)\n",
    "mask_uppertri_except_IgD = (np.array(mask_uppertri[0][1:]), np.array(mask_uppertri[1][1:]))\n",
    "mask_uppertri_diag = np.triu_indices(len(isotype_names), k=0)\n",
    "mask_uppertri_diag_except_IgD = (np.array(mask_uppertri_diag[0][[0] + range(2, len(mask_uppertri_diag[0]))]), np.array(mask_uppertri_diag[1][[0] + range(2, len(mask_uppertri_diag[0]))]))"
   ]
  },
  {
   "cell_type": "markdown",
   "metadata": {},
   "source": [
    "## Plot summary heatmaps summed over all patients"
   ]
  },
  {
   "cell_type": "code",
   "execution_count": 29,
   "metadata": {
    "collapsed": false
   },
   "outputs": [],
   "source": [
    "fig_scale = 6\n",
    "\n",
    "savefig = True\n",
    "savefig_args = {\"dpi\": 300, \"bbox_inches\": \"tight\", \"pad_inches\": 0.2}\n",
    "\n",
    "heatmap_args_default = {\"norm\": None}"
   ]
  },
  {
   "cell_type": "code",
   "execution_count": 36,
   "metadata": {
    "collapsed": false
   },
   "outputs": [
    {
     "data": {
      "image/png": "[encoded data removed]",
      "text/plain": [
       "<matplotlib.figure.Figure at 0x7fec5855bd10>"
      ]
     },
     "metadata": {},
     "output_type": "display_data"
    }
   ],
   "source": [
    "figscale = 2\n",
    "\n",
    "fig, axes = plt.subplots(2, 3, figsize=(3.5*figscale, 2*figscale), sharex=False, sharey=False)\n",
    "\n",
    "x = rates_V1[\"destination_rates_nonself\"]\n",
    "ax = axes[0, 0]\n",
    "plot_pretty_heatmap(ax, x, mask_uppertri_diag, isotype_names, **heatmap_args_default)\n",
    "ax.set_title(\"D0\", y=1.3)\n",
    "ax.set_xticklabels(isotype_names, minor=False, rotation=45, ha='left')\n",
    "ax.set_yticklabels(isotype_names, minor=False)\n",
    "\n",
    "x = rates_V2[\"destination_rates_nonself\"]\n",
    "ax = axes[0, 1]\n",
    "plot_pretty_heatmap(ax, x, mask_uppertri_diag, isotype_names, **heatmap_args_default)\n",
    "ax.set_title(\"D7\", y=1.3)\n",
    "ax.set_xticklabels(isotype_names, minor=False, rotation=45, ha='left')\n",
    "\n",
    "x = rates_V3[\"destination_rates_nonself\"]\n",
    "ax = axes[0, 2]\n",
    "plot_pretty_heatmap(ax, x, mask_uppertri_diag, isotype_names, **heatmap_args_default)\n",
    "ax.set_title(\"D28\", y=1.3)\n",
    "ax.set_xticklabels(isotype_names, minor=False, rotation=45, ha='left')\n",
    "\n",
    "x = rates_V1[\"arrival_rates_nonself\"]\n",
    "ax = axes[1, 0]\n",
    "plot_pretty_heatmap(ax, x, mask_uppertri_diag, isotype_names, **heatmap_args_default)\n",
    "ax.set_yticklabels(isotype_names, minor=False)\n",
    "\n",
    "x = rates_V2[\"arrival_rates_nonself\"]\n",
    "ax = axes[1, 1]\n",
    "plot_pretty_heatmap(ax, x, mask_uppertri_diag, isotype_names, **heatmap_args_default)\n",
    "\n",
    "x = rates_V3[\"arrival_rates_nonself\"]\n",
    "ax = axes[1, 2]\n",
    "_, im = plot_pretty_heatmap(ax, x, mask_uppertri_diag, isotype_names, **heatmap_args_default)\n",
    "\n",
    "axes[0, 0].set_ylabel(\"Destination\\nprobability\")\n",
    "axes[1, 0].set_ylabel(\"Arrival\\nprobability\")\n",
    "\n",
    "fig.subplots_adjust(right=0.8)\n",
    "cbar_ax = fig.add_axes([0.98, 0.15, 0.05, 0.6])\n",
    "fig.colorbar(im, cax=cbar_ax)\n",
    "\n",
    "plt.tight_layout()\n",
    "\n",
    "if savefig: save_figure(fig, \"heatmap_avg_destination_arrival_rates\", output_dir, output_suffix, output_formats, savefig_args)"
   ]
  },
  {
   "cell_type": "code",
   "execution_count": 30,
   "metadata": {
    "collapsed": false
   },
   "outputs": [],
   "source": [
    "figscale = 2\n",
    "\n",
    "def plot_heatmaps3x3(rates_V1, rates_V2, rates_V3):\n",
    "\n",
    "    fig, axes = plt.subplots(3, 3, figsize=(3.5*figscale, 3*figscale), sharex=False, sharey=False)\n",
    "\n",
    "    \n",
    "    x = rates_V1[\"switch_rates_nonself\"]\n",
    "    ax = axes[0, 0]\n",
    "    plot_pretty_heatmap(ax, x, mask_uppertri_diag, isotype_names, **heatmap_args_default)\n",
    "    ax.set_title(\"D0\", y=1.3)\n",
    "    ax.set_xticklabels(isotype_names, minor=False, rotation=45, ha='left')\n",
    "    ax.set_yticklabels(isotype_names, minor=False)\n",
    "\n",
    "    x = rates_V2[\"switch_rates_nonself\"]\n",
    "    ax = axes[0, 1]\n",
    "    plot_pretty_heatmap(ax, x, mask_uppertri_diag, isotype_names, **heatmap_args_default)\n",
    "    ax.set_title(\"D7\", y=1.3)\n",
    "    ax.set_xticklabels(isotype_names, minor=False, rotation=45, ha='left')\n",
    "\n",
    "    x = rates_V3[\"switch_rates_nonself\"]\n",
    "    ax = axes[0, 2]\n",
    "    plot_pretty_heatmap(ax, x, mask_uppertri_diag, isotype_names, **heatmap_args_default)\n",
    "    ax.set_title(\"D28\", y=1.3)\n",
    "    ax.set_xticklabels(isotype_names, minor=False, rotation=45, ha='left')\n",
    "\n",
    "\n",
    "    x = rates_V1[\"destination_rates_nonself\"]\n",
    "    ax = axes[1, 0]\n",
    "    plot_pretty_heatmap(ax, x, mask_uppertri_diag, isotype_names, **heatmap_args_default)\n",
    "    ax.set_yticklabels(isotype_names, minor=False)\n",
    "\n",
    "    x = rates_V2[\"destination_rates_nonself\"]\n",
    "    ax = axes[1, 1]\n",
    "    plot_pretty_heatmap(ax, x, mask_uppertri_diag, isotype_names, **heatmap_args_default)\n",
    "\n",
    "    x = rates_V3[\"destination_rates_nonself\"]\n",
    "    ax = axes[1, 2]\n",
    "    plot_pretty_heatmap(ax, x, mask_uppertri_diag, isotype_names, **heatmap_args_default)\n",
    "\n",
    "\n",
    "    x = rates_V1[\"arrival_rates_nonself\"]\n",
    "    ax = axes[2, 0]\n",
    "    plot_pretty_heatmap(ax, x, mask_uppertri_diag, isotype_names, **heatmap_args_default)\n",
    "    ax.set_yticklabels(isotype_names, minor=False)\n",
    "\n",
    "    x = rates_V2[\"arrival_rates_nonself\"]\n",
    "    ax = axes[2, 1]\n",
    "    plot_pretty_heatmap(ax, x, mask_uppertri_diag, isotype_names, **heatmap_args_default)\n",
    "\n",
    "    x = rates_V3[\"arrival_rates_nonself\"]\n",
    "    ax = axes[2, 2]\n",
    "    _, im = plot_pretty_heatmap(ax, x, mask_uppertri_diag, isotype_names, **heatmap_args_default)\n",
    "\n",
    "    for ax_row in axes:\n",
    "        for ax in ax_row:\n",
    "            labels = [item.get_text() for item in ax.get_xticklabels()]\n",
    "            labels = [label.replace(\"Naive\", \"IgM/IgD\") for label in labels]\n",
    "            ax.set_xticklabels(labels)\n",
    "            labels = [item.get_text() for item in ax.get_yticklabels()]\n",
    "            labels = [label.replace(\"Naive\", \"IgM/IgD\") for label in labels]\n",
    "            ax.set_yticklabels(labels)\n",
    "\n",
    "    axes[0, 0].set_ylabel(\"Relative switch\\nfrequency\")\n",
    "    axes[1, 0].set_ylabel(\"Destination\\nprobability\")\n",
    "    axes[2, 0].set_ylabel(\"Arrival\\nprobability\")\n",
    "\n",
    "    fig.subplots_adjust(right=0.8)\n",
    "    cbar_ax = fig.add_axes([0.98, 0.15, 0.05, 0.6])\n",
    "    fig.colorbar(im, cax=cbar_ax)\n",
    "\n",
    "    plt.tight_layout()\n",
    "    \n",
    "    return fig, axes"
   ]
  },
  {
   "cell_type": "code",
   "execution_count": 31,
   "metadata": {
    "collapsed": false
   },
   "outputs": [
    {
     "name": "stderr",
     "output_type": "stream",
     "text": [
      "/quakestor4/rfhorns/resources/py2.7.8_virtualenv/lib/python2.7/site-packages/matplotlib/figure.py:1644: UserWarning: This figure includes Axes that are not compatible with tight_layout, so its results might be incorrect.\n",
      "  warnings.warn(\"This figure includes Axes that are not \"\n"
     ]
    },
    {
     "data": {
      "image/png": "[encoded data removed]",
      "text/plain": [
       "<matplotlib.figure.Figure at 0x7fd0ac312e90>"
      ]
     },
     "metadata": {},
     "output_type": "display_data"
    }
   ],
   "source": [
    "fig, axes = plot_heatmaps3x3(rates_V1, rates_V2, rates_V3)\n",
    "if savefig: save_figure(fig, \"heatmap_avg_rates\", output_dir, output_suffix, output_formats, savefig_args)"
   ]
  },
  {
   "cell_type": "markdown",
   "metadata": {},
   "source": [
    "# Print table of switch counts for supplements"
   ]
  },
  {
   "cell_type": "code",
   "execution_count": 44,
   "metadata": {
    "collapsed": false
   },
   "outputs": [
    {
     "name": "stdout",
     "output_type": "stream",
     "text": [
      "All switch counts\n",
      "[[ 1495250.     2530.    19881.    26915.    12695.      312.       10.\n",
      "      7344.]\n",
      " [       0.    48357.     4726.      935.     3178.      157.        0.\n",
      "       139.]\n",
      " [       0.        0.   645591.    17480.    15663.      342.       16.\n",
      "      2934.]\n",
      " [       0.        0.        0.   493999.     8028.       57.        5.\n",
      "     12176.]\n",
      " [       0.        0.        0.        0.   375284.      542.        1.\n",
      "      6455.]\n",
      " [       0.        0.        0.        0.        0.    16091.        3.\n",
      "        17.]\n",
      " [       0.        0.        0.        0.        0.        0.      419.\n",
      "         0.]\n",
      " [       0.        0.        0.        0.        0.        0.        0.\n",
      "     86814.]]\n",
      "3304346.0\n"
     ]
    }
   ],
   "source": [
    "print \"All switch counts\"\n",
    "print rates_Vall[\"switch_counts\"]\n",
    "print np.sum(rates_Vall[\"switch_counts\"])"
   ]
  },
  {
   "cell_type": "code",
   "execution_count": 42,
   "metadata": {
    "collapsed": false
   },
   "outputs": [
    {
     "data": {
      "text/plain": [
       "array([[ 0.     ,  0.094  ,  0.73866,  1.     ,  0.47167,  0.01159,\n",
       "         0.00037,  0.27286],\n",
       "       [ 0.     ,  0.     ,  0.17559,  0.03474,  0.11808,  0.00583,\n",
       "         0.     ,  0.00516],\n",
       "       [ 0.     ,  0.     ,  0.     ,  0.64945,  0.58194,  0.01271,\n",
       "         0.00059,  0.10901],\n",
       "       [ 0.     ,  0.     ,  0.     ,  0.     ,  0.29827,  0.00212,\n",
       "         0.00019,  0.45239],\n",
       "       [ 0.     ,  0.     ,  0.     ,  0.     ,  0.     ,  0.02014,\n",
       "         0.00004,  0.23983],\n",
       "       [ 0.     ,  0.     ,  0.     ,  0.     ,  0.     ,  0.     ,\n",
       "         0.00011,  0.00063],\n",
       "       [ 0.     ,  0.     ,  0.     ,  0.     ,  0.     ,  0.     ,\n",
       "         0.     ,  0.     ],\n",
       "       [ 0.     ,  0.     ,  0.     ,  0.     ,  0.     ,  0.     ,\n",
       "         0.     ,  0.     ]])"
      ]
     },
     "execution_count": 42,
     "metadata": {},
     "output_type": "execute_result"
    }
   ],
   "source": [
    "np.set_printoptions(suppress=True, precision=5) # print output\n",
    "rates_Vall[\"switch_rates_nonself\"]"
   ]
  },
  {
   "cell_type": "code",
   "execution_count": 45,
   "metadata": {
    "collapsed": false
   },
   "outputs": [
    {
     "data": {
      "text/plain": [
       "array([[ 0.  ,  0.04,  0.29,  0.39,  0.18,  0.  ,  0.  ,  0.11],\n",
       "       [ 0.  ,  0.  ,  0.52,  0.1 ,  0.35,  0.02,  0.  ,  0.02],\n",
       "       [ 0.  ,  0.  ,  0.  ,  0.48,  0.43,  0.01,  0.  ,  0.08],\n",
       "       [ 0.  ,  0.  ,  0.  ,  0.  ,  0.4 ,  0.  ,  0.  ,  0.6 ],\n",
       "       [ 0.  ,  0.  ,  0.  ,  0.  ,  0.  ,  0.08,  0.  ,  0.92],\n",
       "       [ 0.  ,  0.  ,  0.  ,  0.  ,  0.  ,  0.  ,  0.15,  0.85],\n",
       "       [ 0.  ,  0.  ,  0.  ,  0.  ,  0.  ,  0.  ,  0.  ,  0.  ],\n",
       "       [ 0.  ,  0.  ,  0.  ,  0.  ,  0.  ,  0.  ,  0.  ,  0.  ]])"
      ]
     },
     "execution_count": 45,
     "metadata": {},
     "output_type": "execute_result"
    }
   ],
   "source": [
    "np.set_printoptions(suppress=True, precision=2) # print output\n",
    "rates_Vall[\"destination_rates_nonself\"]"
   ]
  }
 ],
 "metadata": {
  "kernelspec": {
   "display_name": "Python 2",
   "language": "python",
   "name": "python2"
  },
  "language_info": {
   "codemirror_mode": {
    "name": "ipython",
    "version": 2
   },
   "file_extension": ".py",
   "mimetype": "text/x-python",
   "name": "python",
   "nbconvert_exporter": "python",
   "pygments_lexer": "ipython2",
   "version": "2.7.11"
  }
 },
 "nbformat": 4,
 "nbformat_minor": 0
}
